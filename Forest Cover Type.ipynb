{
 "cells": [
  {
   "cell_type": "code",
   "execution_count": 3,
   "metadata": {},
   "outputs": [],
   "source": [
    "from sklearn.datasets import load_iris\n",
    "from sklearn.model_selection import train_test_split \n",
    "from sklearn.neighbors import KNeighborsClassifier\n",
    "from sklearn import metrics\n",
    "import numpy as np\n",
    "import pandas as pd\n",
    "import matplotlib.pyplot as plt\n",
    "from matplotlib.ticker import NullFormatter\n",
    "from sklearn import preprocessing\n",
    "%matplotlib inline"
   ]
  },
  {
   "cell_type": "code",
   "execution_count": 4,
   "metadata": {},
   "outputs": [],
   "source": [
    "data = pd.read_csv('C:\\\\Users\\\\Amar\\\\Desktop\\\\ForestCovertypedataa.csv')"
   ]
  },
  {
   "cell_type": "code",
   "execution_count": 5,
   "metadata": {},
   "outputs": [
    {
     "data": {
      "text/html": [
       "<div>\n",
       "<style scoped>\n",
       "    .dataframe tbody tr th:only-of-type {\n",
       "        vertical-align: middle;\n",
       "    }\n",
       "\n",
       "    .dataframe tbody tr th {\n",
       "        vertical-align: top;\n",
       "    }\n",
       "\n",
       "    .dataframe thead th {\n",
       "        text-align: right;\n",
       "    }\n",
       "</style>\n",
       "<table border=\"1\" class=\"dataframe\">\n",
       "  <thead>\n",
       "    <tr style=\"text-align: right;\">\n",
       "      <th></th>\n",
       "      <th>Elevation</th>\n",
       "      <th>Aspect</th>\n",
       "      <th>Slope</th>\n",
       "      <th>H_dist</th>\n",
       "      <th>V_Dist</th>\n",
       "      <th>H_Dist_To_Roadways</th>\n",
       "      <th>Hillshade_9am</th>\n",
       "      <th>Hillshade_noon</th>\n",
       "      <th>Hillshade_3pm</th>\n",
       "      <th>H_Dist_To_Fire_Points</th>\n",
       "      <th>...</th>\n",
       "      <th>Soil_type.32</th>\n",
       "      <th>Soil_type.33</th>\n",
       "      <th>Soil_type.34</th>\n",
       "      <th>Soil_type.35</th>\n",
       "      <th>Soil_type.36</th>\n",
       "      <th>Soil_type.37</th>\n",
       "      <th>Soil_type.38</th>\n",
       "      <th>Soil_type.39</th>\n",
       "      <th>Soil_type.40</th>\n",
       "      <th>Cover_Type</th>\n",
       "    </tr>\n",
       "  </thead>\n",
       "  <tbody>\n",
       "    <tr>\n",
       "      <th>0</th>\n",
       "      <td>2596</td>\n",
       "      <td>51</td>\n",
       "      <td>3</td>\n",
       "      <td>258</td>\n",
       "      <td>0</td>\n",
       "      <td>510</td>\n",
       "      <td>221</td>\n",
       "      <td>232</td>\n",
       "      <td>148</td>\n",
       "      <td>6279</td>\n",
       "      <td>...</td>\n",
       "      <td>0</td>\n",
       "      <td>0</td>\n",
       "      <td>0</td>\n",
       "      <td>0</td>\n",
       "      <td>0</td>\n",
       "      <td>0</td>\n",
       "      <td>0</td>\n",
       "      <td>0</td>\n",
       "      <td>0</td>\n",
       "      <td>5</td>\n",
       "    </tr>\n",
       "    <tr>\n",
       "      <th>1</th>\n",
       "      <td>2590</td>\n",
       "      <td>56</td>\n",
       "      <td>2</td>\n",
       "      <td>212</td>\n",
       "      <td>-6</td>\n",
       "      <td>390</td>\n",
       "      <td>220</td>\n",
       "      <td>235</td>\n",
       "      <td>151</td>\n",
       "      <td>6225</td>\n",
       "      <td>...</td>\n",
       "      <td>0</td>\n",
       "      <td>0</td>\n",
       "      <td>0</td>\n",
       "      <td>0</td>\n",
       "      <td>0</td>\n",
       "      <td>0</td>\n",
       "      <td>0</td>\n",
       "      <td>0</td>\n",
       "      <td>0</td>\n",
       "      <td>5</td>\n",
       "    </tr>\n",
       "    <tr>\n",
       "      <th>2</th>\n",
       "      <td>2804</td>\n",
       "      <td>139</td>\n",
       "      <td>9</td>\n",
       "      <td>268</td>\n",
       "      <td>65</td>\n",
       "      <td>3180</td>\n",
       "      <td>234</td>\n",
       "      <td>238</td>\n",
       "      <td>135</td>\n",
       "      <td>6121</td>\n",
       "      <td>...</td>\n",
       "      <td>0</td>\n",
       "      <td>0</td>\n",
       "      <td>0</td>\n",
       "      <td>0</td>\n",
       "      <td>0</td>\n",
       "      <td>0</td>\n",
       "      <td>0</td>\n",
       "      <td>0</td>\n",
       "      <td>0</td>\n",
       "      <td>2</td>\n",
       "    </tr>\n",
       "    <tr>\n",
       "      <th>3</th>\n",
       "      <td>2785</td>\n",
       "      <td>155</td>\n",
       "      <td>18</td>\n",
       "      <td>242</td>\n",
       "      <td>118</td>\n",
       "      <td>3090</td>\n",
       "      <td>238</td>\n",
       "      <td>238</td>\n",
       "      <td>122</td>\n",
       "      <td>6211</td>\n",
       "      <td>...</td>\n",
       "      <td>0</td>\n",
       "      <td>0</td>\n",
       "      <td>0</td>\n",
       "      <td>0</td>\n",
       "      <td>0</td>\n",
       "      <td>0</td>\n",
       "      <td>0</td>\n",
       "      <td>0</td>\n",
       "      <td>0</td>\n",
       "      <td>2</td>\n",
       "    </tr>\n",
       "    <tr>\n",
       "      <th>4</th>\n",
       "      <td>2595</td>\n",
       "      <td>45</td>\n",
       "      <td>2</td>\n",
       "      <td>153</td>\n",
       "      <td>-1</td>\n",
       "      <td>391</td>\n",
       "      <td>220</td>\n",
       "      <td>234</td>\n",
       "      <td>150</td>\n",
       "      <td>6172</td>\n",
       "      <td>...</td>\n",
       "      <td>0</td>\n",
       "      <td>0</td>\n",
       "      <td>0</td>\n",
       "      <td>0</td>\n",
       "      <td>0</td>\n",
       "      <td>0</td>\n",
       "      <td>0</td>\n",
       "      <td>0</td>\n",
       "      <td>0</td>\n",
       "      <td>5</td>\n",
       "    </tr>\n",
       "  </tbody>\n",
       "</table>\n",
       "<p>5 rows × 55 columns</p>\n",
       "</div>"
      ],
      "text/plain": [
       "   Elevation   Aspect  Slope  H_dist  V_Dist  H_Dist_To_Roadways  \\\n",
       "0        2596      51      3     258       0                 510   \n",
       "1        2590      56      2     212      -6                 390   \n",
       "2        2804     139      9     268      65                3180   \n",
       "3        2785     155     18     242     118                3090   \n",
       "4        2595      45      2     153      -1                 391   \n",
       "\n",
       "   Hillshade_9am  Hillshade_noon  Hillshade_3pm  H_Dist_To_Fire_Points   ...  \\\n",
       "0            221             232            148                    6279  ...   \n",
       "1            220             235            151                    6225  ...   \n",
       "2            234             238            135                    6121  ...   \n",
       "3            238             238            122                    6211  ...   \n",
       "4            220             234            150                    6172  ...   \n",
       "\n",
       "   Soil_type.32  Soil_type.33  Soil_type.34  Soil_type.35  Soil_type.36  \\\n",
       "0             0             0             0             0             0   \n",
       "1             0             0             0             0             0   \n",
       "2             0             0             0             0             0   \n",
       "3             0             0             0             0             0   \n",
       "4             0             0             0             0             0   \n",
       "\n",
       "   Soil_type.37  Soil_type.38  Soil_type.39  Soil_type.40  Cover_Type  \n",
       "0             0             0             0             0           5  \n",
       "1             0             0             0             0           5  \n",
       "2             0             0             0             0           2  \n",
       "3             0             0             0             0           2  \n",
       "4             0             0             0             0           5  \n",
       "\n",
       "[5 rows x 55 columns]"
      ]
     },
     "execution_count": 5,
     "metadata": {},
     "output_type": "execute_result"
    }
   ],
   "source": [
    "data.head()"
   ]
  },
  {
   "cell_type": "code",
   "execution_count": 6,
   "metadata": {},
   "outputs": [
    {
     "data": {
      "text/plain": [
       "(581012, 55)"
      ]
     },
     "execution_count": 6,
     "metadata": {},
     "output_type": "execute_result"
    }
   ],
   "source": [
    "data.shape"
   ]
  },
  {
   "cell_type": "code",
   "execution_count": 7,
   "metadata": {},
   "outputs": [
    {
     "data": {
      "text/plain": [
       "Index(['Elevation ', 'Aspect', 'Slope', 'H_dist', 'V_Dist',\n",
       "       'H_Dist_To_Roadways', 'Hillshade_9am', 'Hillshade_noon',\n",
       "       'Hillshade_3pm', 'H_Dist_To_Fire_Points ', 'Wilderness_Area',\n",
       "       'Wilderness_Area.1', 'Wilderness_Area.2', 'Soil_type', 'Soil_type.1',\n",
       "       'Soil_type.2', 'Soil_type.3', 'Soil_type.4', 'Soil_type.5',\n",
       "       'Soil_type.6', 'Soil_type.7', 'Soil_type.8', 'Soil_type.9',\n",
       "       'Soil_type.10', 'Soil_type.11', 'Soil_type.12', 'Soil_type.13',\n",
       "       'Soil_type.14', 'Soil_type.15', 'Soil_type.16', 'Soil_type.17',\n",
       "       'Soil_type.18', 'Soil_type.19', 'Soil_type.20', 'Soil_type.21',\n",
       "       'Soil_type.22', 'Soil_type.23', 'Soil_type.24', 'Soil_type.25',\n",
       "       'Soil_type.26', 'Soil_type.27', 'Soil_type.28', 'Soil_type.29',\n",
       "       'Soil_type.30', 'Soil_type.31', 'Soil_type.32', 'Soil_type.33',\n",
       "       'Soil_type.34', 'Soil_type.35', 'Soil_type.36', 'Soil_type.37',\n",
       "       'Soil_type.38', 'Soil_type.39', 'Soil_type.40', 'Cover_Type'],\n",
       "      dtype='object')"
      ]
     },
     "execution_count": 7,
     "metadata": {},
     "output_type": "execute_result"
    }
   ],
   "source": [
    "data.columns"
   ]
  },
  {
   "cell_type": "code",
   "execution_count": 8,
   "metadata": {},
   "outputs": [
    {
     "data": {
      "text/plain": [
       "Elevation                 0\n",
       "Aspect                    0\n",
       "Slope                     0\n",
       "H_dist                    0\n",
       "V_Dist                    0\n",
       "H_Dist_To_Roadways        0\n",
       "Hillshade_9am             0\n",
       "Hillshade_noon            0\n",
       "Hillshade_3pm             0\n",
       "H_Dist_To_Fire_Points     0\n",
       "Wilderness_Area           0\n",
       "Wilderness_Area.1         0\n",
       "Wilderness_Area.2         0\n",
       "Soil_type                 0\n",
       "Soil_type.1               0\n",
       "Soil_type.2               0\n",
       "Soil_type.3               0\n",
       "Soil_type.4               0\n",
       "Soil_type.5               0\n",
       "Soil_type.6               0\n",
       "Soil_type.7               0\n",
       "Soil_type.8               0\n",
       "Soil_type.9               0\n",
       "Soil_type.10              0\n",
       "Soil_type.11              0\n",
       "Soil_type.12              0\n",
       "Soil_type.13              0\n",
       "Soil_type.14              0\n",
       "Soil_type.15              0\n",
       "Soil_type.16              0\n",
       "Soil_type.17              0\n",
       "Soil_type.18              0\n",
       "Soil_type.19              0\n",
       "Soil_type.20              0\n",
       "Soil_type.21              0\n",
       "Soil_type.22              0\n",
       "Soil_type.23              0\n",
       "Soil_type.24              0\n",
       "Soil_type.25              0\n",
       "Soil_type.26              0\n",
       "Soil_type.27              0\n",
       "Soil_type.28              0\n",
       "Soil_type.29              0\n",
       "Soil_type.30              0\n",
       "Soil_type.31              0\n",
       "Soil_type.32              0\n",
       "Soil_type.33              0\n",
       "Soil_type.34              0\n",
       "Soil_type.35              0\n",
       "Soil_type.36              0\n",
       "Soil_type.37              0\n",
       "Soil_type.38              0\n",
       "Soil_type.39              0\n",
       "Soil_type.40              0\n",
       "Cover_Type                0\n",
       "dtype: int64"
      ]
     },
     "execution_count": 8,
     "metadata": {},
     "output_type": "execute_result"
    }
   ],
   "source": [
    "data.dropna(inplace = True)\n",
    "data.isnull().sum()\n"
   ]
  },
  {
   "cell_type": "code",
   "execution_count": 9,
   "metadata": {},
   "outputs": [
    {
     "data": {
      "text/plain": [
       "(581012, 55)"
      ]
     },
     "execution_count": 9,
     "metadata": {},
     "output_type": "execute_result"
    }
   ],
   "source": [
    "data.shape"
   ]
  },
  {
   "cell_type": "code",
   "execution_count": 62,
   "metadata": {},
   "outputs": [
    {
     "name": "stdout",
     "output_type": "stream",
     "text": [
      "Collecting sklearn\n",
      "  Downloading https://files.pythonhosted.org/packages/1e/7a/dbb3be0ce9bd5c8b7e3d87328e79063f8b263b2b1bfa4774cb1147bfcd3f/sklearn-0.0.tar.gz\n",
      "Requirement already satisfied: scikit-learn in c:\\users\\amar\\anacondaa\\lib\\site-packages (from sklearn) (0.20.3)\n",
      "Requirement already satisfied: scipy>=0.13.3 in c:\\users\\amar\\anacondaa\\lib\\site-packages (from scikit-learn->sklearn) (1.2.1)\n",
      "Requirement already satisfied: numpy>=1.8.2 in c:\\users\\amar\\anacondaa\\lib\\site-packages (from scikit-learn->sklearn) (1.16.2)\n",
      "Building wheels for collected packages: sklearn\n",
      "  Building wheel for sklearn (setup.py): started\n",
      "  Building wheel for sklearn (setup.py): finished with status 'done'\n",
      "  Stored in directory: C:\\Users\\Amar\\AppData\\Local\\pip\\Cache\\wheels\\76\\03\\bb\\589d421d27431bcd2c6da284d5f2286c8e3b2ea3cf1594c074\n",
      "Successfully built sklearn\n",
      "Installing collected packages: sklearn\n",
      "Successfully installed sklearn-0.0\n",
      "Note: you may need to restart the kernel to use updated packages.\n"
     ]
    }
   ],
   "source": [
    "pip install sklearn\n"
   ]
  },
  {
   "cell_type": "code",
   "execution_count": 11,
   "metadata": {},
   "outputs": [],
   "source": [
    "X = data.iloc[:,:-1].values\n",
    "y = data.iloc[:,-1].values"
   ]
  },
  {
   "cell_type": "code",
   "execution_count": 13,
   "metadata": {},
   "outputs": [],
   "source": [
    "X_train,X_test,y_train,y_test = train_test_split(X,y,test_size=0.2, random_state=0)"
   ]
  },
  {
   "cell_type": "code",
   "execution_count": 14,
   "metadata": {},
   "outputs": [
    {
     "data": {
      "text/plain": [
       "array([[2444,    4,   15, ...,    0,    0,    0],\n",
       "       [3355,   96,   23, ...,    0,    0,    1],\n",
       "       [2988,  329,    4, ...,    0,    0,    0],\n",
       "       ...,\n",
       "       [2563,  129,    9, ...,    0,    0,    0],\n",
       "       [3322,  238,   14, ...,    0,    0,    0],\n",
       "       [2482,  258,   26, ...,    0,    0,    0]], dtype=int64)"
      ]
     },
     "execution_count": 14,
     "metadata": {},
     "output_type": "execute_result"
    }
   ],
   "source": [
    "X_train"
   ]
  },
  {
   "cell_type": "code",
   "execution_count": 15,
   "metadata": {},
   "outputs": [],
   "source": [
    "from sklearn.preprocessing import StandardScaler\n",
    "standard_X = StandardScaler()"
   ]
  },
  {
   "cell_type": "code",
   "execution_count": 17,
   "metadata": {},
   "outputs": [
    {
     "name": "stderr",
     "output_type": "stream",
     "text": [
      "C:\\Users\\Amar\\Anacondaa\\lib\\site-packages\\sklearn\\utils\\validation.py:595: DataConversionWarning: Data with input dtype int64 was converted to float64 by StandardScaler.\n",
      "  warnings.warn(msg, DataConversionWarning)\n",
      "C:\\Users\\Amar\\Anacondaa\\lib\\site-packages\\sklearn\\utils\\validation.py:595: DataConversionWarning: Data with input dtype int64 was converted to float64 by StandardScaler.\n",
      "  warnings.warn(msg, DataConversionWarning)\n"
     ]
    }
   ],
   "source": [
    "X_train = standard_X.fit_transform(X_train)\n",
    "X_test = standard_X.fit_transform(X_test)"
   ]
  },
  {
   "cell_type": "code",
   "execution_count": 18,
   "metadata": {},
   "outputs": [
    {
     "data": {
      "text/plain": [
       "array([[-1.84064495, -1.35478696,  0.1206809 , ..., -0.16611767,\n",
       "        -0.15515245, -0.12384181],\n",
       "       [ 1.41287262, -0.53258265,  1.18912469, ..., -0.16611767,\n",
       "        -0.15515245,  8.0748175 ],\n",
       "       [ 0.10218003,  1.54973913, -1.34842932, ..., -0.16611767,\n",
       "        -0.15515245, -0.12384181],\n",
       "       ...,\n",
       "       [-1.41565198, -0.23766154, -0.68065195, ..., -0.16611767,\n",
       "        -0.15515245, -0.12384181],\n",
       "       [ 1.29501743,  0.73647182, -0.01287458, ..., -0.16611767,\n",
       "        -0.15515245, -0.12384181],\n",
       "       [-1.70493291,  0.91521189,  1.58979111, ..., -0.16611767,\n",
       "        -0.15515245, -0.12384181]])"
      ]
     },
     "execution_count": 18,
     "metadata": {},
     "output_type": "execute_result"
    }
   ],
   "source": [
    "X_train"
   ]
  },
  {
   "cell_type": "code",
   "execution_count": 28,
   "metadata": {},
   "outputs": [],
   "source": [
    "from sklearn.datasets.samples_generator import make_blobs\n",
    "from sklearn import mixture\n",
    "modele = mixture.GaussianMixture(n_components=3, covariance_type='full')"
   ]
  },
  {
   "cell_type": "code",
   "execution_count": 29,
   "metadata": {},
   "outputs": [],
   "source": [
    "\n",
    "X,y = make_blobs(n_samples= 300, centers = 7, cluster_std=0.60, random_state = 0)"
   ]
  },
  {
   "cell_type": "code",
   "execution_count": 30,
   "metadata": {},
   "outputs": [
    {
     "data": {
      "text/plain": [
       "<matplotlib.collections.PathCollection at 0x1fd81245f60>"
      ]
     },
     "execution_count": 30,
     "metadata": {},
     "output_type": "execute_result"
    },
    {
     "data": {
      "image/png": "[encoded data removed]",
      "text/plain": [
       "<Figure size 432x288 with 1 Axes>"
      ]
     },
     "metadata": {
      "needs_background": "light"
     },
     "output_type": "display_data"
    }
   ],
   "source": [
    "plt.scatter(X[:,0], X[:,1])"
   ]
  },
  {
   "cell_type": "code",
   "execution_count": 31,
   "metadata": {},
   "outputs": [
    {
     "data": {
      "image/png": "[encoded data removed]",
      "text/plain": [
       "<Figure size 432x288 with 1 Axes>"
      ]
     },
     "metadata": {
      "needs_background": "light"
     },
     "output_type": "display_data"
    }
   ],
   "source": [
    "n_components = np.arange(1, 21)\n",
    "models = [GaussianMixture(n, covariance_type='full', random_state=0).fit(X) for n in n_components]\n",
    "plt.plot(n_components, [m.bic(X) for m in models], label='BIC')\n",
    "plt.plot(n_components, [m.aic(X) for m in models], label='AIC')\n",
    "plt.legend(loc='best')\n",
    "plt.xlabel('n_components');"
   ]
  },
  {
   "cell_type": "code",
   "execution_count": 33,
   "metadata": {},
   "outputs": [
    {
     "data": {
      "text/plain": [
       "GaussianMixture(covariance_type='full', init_params='kmeans', max_iter=100,\n",
       "        means_init=None, n_components=7, n_init=1, precisions_init=None,\n",
       "        random_state=None, reg_covar=1e-06, tol=0.001, verbose=0,\n",
       "        verbose_interval=10, warm_start=False, weights_init=None)"
      ]
     },
     "execution_count": 33,
     "metadata": {},
     "output_type": "execute_result"
    }
   ],
   "source": [
    "gmm = GaussianMixture(n_components = 7)\n",
    "gmm.fit(X)"
   ]
  },
  {
   "cell_type": "code",
   "execution_count": 34,
   "metadata": {},
   "outputs": [
    {
     "data": {
      "text/plain": [
       "<matplotlib.collections.PathCollection at 0x1fd811d6780>"
      ]
     },
     "execution_count": 34,
     "metadata": {},
     "output_type": "execute_result"
    },
    {
     "data": {
      "image/png": "[encoded data removed]",
      "text/plain": [
       "<Figure size 432x288 with 1 Axes>"
      ]
     },
     "metadata": {
      "needs_background": "light"
     },
     "output_type": "display_data"
    }
   ],
   "source": [
    "labels = gmm.predict(X)\n",
    "plt.scatter(X[:,0], X[:,1], c = labels, cmap = 'viridis')"
   ]
  },
  {
   "cell_type": "code",
   "execution_count": null,
   "metadata": {},
   "outputs": [],
   "source": []
  }
 ],
 "metadata": {
  "kernelspec": {
   "display_name": "Python 3",
   "language": "python",
   "name": "python3"
  },
  "language_info": {
   "codemirror_mode": {
    "name": "ipython",
    "version": 3
   },
   "file_extension": ".py",
   "mimetype": "text/x-python",
   "name": "python",
   "nbconvert_exporter": "python",
   "pygments_lexer": "ipython3",
   "version": "3.7.3"
  }
 },
 "nbformat": 4,
 "nbformat_minor": 2
}
